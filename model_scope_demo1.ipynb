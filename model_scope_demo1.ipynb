{
 "cells": [
  {
   "cell_type": "code",
   "execution_count": 3,
   "metadata": {},
   "outputs": [
    {
     "name": "stderr",
     "output_type": "stream",
     "text": [
      "2024-04-08 17:54:02,434 - modelscope - WARNING - Model revision not specified, use revision: v1.1.0\n",
      "2024-04-08 17:54:02,639 - modelscope - INFO - initiate model from /home/jim/.cache/modelscope/hub/damo/nlp_corom_sentence-embedding_chinese-base\n",
      "2024-04-08 17:54:02,639 - modelscope - INFO - initiate model from location /home/jim/.cache/modelscope/hub/damo/nlp_corom_sentence-embedding_chinese-base.\n",
      "2024-04-08 17:54:02,641 - modelscope - INFO - initialize model from /home/jim/.cache/modelscope/hub/damo/nlp_corom_sentence-embedding_chinese-base\n",
      "2024-04-08 17:54:03,870 - modelscope - WARNING - No preprocessor field found in cfg.\n",
      "2024-04-08 17:54:03,870 - modelscope - WARNING - No val key and type key found in preprocessor domain of configuration.json file.\n",
      "2024-04-08 17:54:03,871 - modelscope - WARNING - Cannot find available config to build preprocessor at mode inference, current config: {'model_dir': '/home/jim/.cache/modelscope/hub/damo/nlp_corom_sentence-embedding_chinese-base'}. trying to build by task and model information.\n",
      "2024-04-08 17:54:03,896 - modelscope - INFO - cuda is not available, using cpu instead.\n",
      "2024-04-08 17:54:03,897 - modelscope - WARNING - No preprocessor field found in cfg.\n",
      "2024-04-08 17:54:03,898 - modelscope - WARNING - No val key and type key found in preprocessor domain of configuration.json file.\n",
      "2024-04-08 17:54:03,898 - modelscope - WARNING - Cannot find available config to build preprocessor at mode inference, current config: {'model_dir': '/home/jim/.cache/modelscope/hub/damo/nlp_corom_sentence-embedding_chinese-base', 'sequence_length': 128}. trying to build by task and model information.\n"
     ]
    },
    {
     "name": "stdout",
     "output_type": "stream",
     "text": [
      "{'text_embedding': array([[ 0.05729454,  0.20573738,  0.17654084, ...,  0.24165948,\n",
      "        -0.08281946,  0.01529898],\n",
      "       [-0.05893845, -0.06724162,  0.21177891, ...,  0.09431241,\n",
      "         0.00620743, -0.10968867],\n",
      "       [ 0.15444878,  0.22453931,  0.05703185, ...,  0.21452679,\n",
      "        -0.05756981,  0.36385238],\n",
      "       [-0.0484446 ,  0.2904257 ,  0.08930138, ..., -0.10127166,\n",
      "        -0.04289681,  0.47542715],\n",
      "       [ 0.4053027 ,  0.10854117,  0.27164385, ..., -0.19292696,\n",
      "        -0.10013323,  0.1521477 ]], dtype=float32), 'scores': [55.69990921020508, 75.31266784667969, 71.8032455444336, 54.557708740234375]}\n",
      "{'text_embedding': array([[-0.05893845, -0.06724162,  0.21177891, ...,  0.09431241,\n",
      "         0.00620743, -0.10968867],\n",
      "       [ 0.15444878,  0.22453931,  0.05703185, ...,  0.21452679,\n",
      "        -0.05756981,  0.36385238],\n",
      "       [-0.0484446 ,  0.2904257 ,  0.08930138, ..., -0.10127166,\n",
      "        -0.04289681,  0.47542715],\n",
      "       [ 0.4053027 ,  0.10854117,  0.27164385, ..., -0.19292696,\n",
      "        -0.10013323,  0.1521477 ]], dtype=float32), 'scores': []}\n"
     ]
    }
   ],
   "source": [
    "from modelscope.models import Model\n",
    "from modelscope.pipelines import pipeline\n",
    "from modelscope.utils.constant import Tasks\n",
    "\n",
    "model_id = \"damo/nlp_corom_sentence-embedding_chinese-base\"\n",
    "pipeline_se = pipeline(Tasks.sentence_embedding, model=model_id)\n",
    "\n",
    "# 当输入包含“soure_sentence”与“sentences_to_compare”时，会输出source_sentence中首个句子与sentences_to_compare中每个句子的向量表示，以及source_sentence中首个句子与sentences_to_compare中每个句子的相似度。\n",
    "inputs = {\n",
    "        \"source_sentence\": [\"吃完海鲜可以喝牛奶吗?\"],\n",
    "        \"sentences_to_compare\": [\n",
    "            \"不可以，早晨喝牛奶不科学\",\n",
    "            \"吃了海鲜后是不能再喝牛奶的，因为牛奶中含得有维生素C，如果海鲜喝牛奶一起服用会对人体造成一定的伤害\",\n",
    "            \"吃海鲜是不能同时喝牛奶吃水果，这个至少间隔6小时以上才可以。\",\n",
    "            \"吃海鲜是不可以吃柠檬的因为其中的维生素C会和海鲜中的矿物质形成砷\"\n",
    "        ]\n",
    "    }\n",
    "\n",
    "result = pipeline_se(input=inputs)\n",
    "print (result)\n",
    "\n",
    "# {'text_embedding': array([[-0.2321947 ,  0.41309452,  0.26903808, ..., -0.27691665,\n",
    "#         0.39870635,  0.26265666],\n",
    "#       [-0.2236533 ,  0.4202284 ,  0.2666558 , ..., -0.26484373,\n",
    "#         0.40744486,  0.27727932],\n",
    "#       [-0.25315344,  0.38203233,  0.24046004, ..., -0.32800043,\n",
    "#         0.41472995,  0.29768184],\n",
    "#       [-0.24323441,  0.41074473,  0.24910843, ..., -0.30696338,\n",
    "#         0.40286067,  0.2736369 ],\n",
    "#       [-0.25041905,  0.37499064,  0.24194787, ..., -0.31972343,\n",
    "#         0.41340488,  0.27778068]], dtype=float32), 'scores': [70.26203918457031, 70.42508697509766, 70.55732727050781, 70.36207580566406]}\n",
    "\n",
    "# 当输入仅含有soure_sentence时，会输出source_sentence中每个句子的向量表示以及首个句子与其他句子的相似度。\n",
    "inputs2 = {\n",
    "        \"source_sentence\": [\n",
    "            \"不可以，早晨喝牛奶不科学\",\n",
    "            \"吃了海鲜后是不能再喝牛奶的，因为牛奶中含得有维生素C，如果海鲜喝牛奶一起服用会对人体造成一定的伤害\",\n",
    "            \"吃海鲜是不能同时喝牛奶吃水果，这个至少间隔6小时以上才可以。\",\n",
    "            \"吃海鲜是不可以吃柠檬的因为其中的维生素C会和海鲜中的矿物质形成砷\"\n",
    "        ]\n",
    "}\n",
    "result = pipeline_se(input=inputs2)\n",
    "print (result)\n",
    "# {'text_embedding': array([[-0.22365333,  0.4202284 ,  0.2666558 , ..., -0.26484376,\n",
    "#         0.40744498,  0.2772795 ],\n",
    "#       [-0.25315338,  0.38203242,  0.24046004, ..., -0.3280005 ,\n",
    "#         0.41472986,  0.29768166],\n",
    "#       [-0.24323441,  0.41074485,  0.24910843, ..., -0.30696347,\n",
    "#         0.40286088,  0.27363694],\n",
    "#       [-0.25041893,  0.3749906 ,  0.24194777, ..., -0.3197233 ,\n",
    "#         0.41340476,  0.27778062]], dtype=float32), 'scores': [70.5133285522461, 70.56582641601562, 70.45124816894531]}"
   ]
  }
 ],
 "metadata": {
  "kernelspec": {
   "display_name": ".venv",
   "language": "python",
   "name": "python3"
  },
  "language_info": {
   "codemirror_mode": {
    "name": "ipython",
    "version": 3
   },
   "file_extension": ".py",
   "mimetype": "text/x-python",
   "name": "python",
   "nbconvert_exporter": "python",
   "pygments_lexer": "ipython3",
   "version": "3.11.6"
  }
 },
 "nbformat": 4,
 "nbformat_minor": 2
}
