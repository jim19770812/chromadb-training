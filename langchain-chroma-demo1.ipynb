{
 "cells": [
  {
   "cell_type": "markdown",
   "metadata": {},
   "source": [
    "# 本地知识库的加载和查询\n",
    "1. 用文本加载器TextLoader加载本地text文件\n",
    "2. 使用similarity_search进行相关性检索\n",
    "3. 使用similarity_search_with_score进行带打分的相关性检索，这个打分可以进行阈值筛选"
   ]
  },
  {
   "cell_type": "code",
   "execution_count": null,
   "metadata": {},
   "outputs": [],
   "source": [
    "from typing import List\n",
    "from langchain.document_loaders import TextLoader\n",
    "from langchain.text_splitter import CharacterTextSplitter\n",
    "from langchain.embeddings import ModelScopeEmbeddings\n",
    "from langchain.vectorstores import Chroma\n",
    "from langchain.docstore.document import Document\n",
    "\n",
    "raw_doc1 = TextLoader('resources/doc1.txt', encoding='utf-8').load()\n",
    "text_splitter = CharacterTextSplitter(chunk_size=500, chunk_overlap=0)\n",
    "sp_doc1:List[Document] = text_splitter.split_documents(raw_doc1)\n",
    "print(sp_doc1)\n",
    "\n",
    "model_id = \"damo/nlp_corom_sentence-embedding_chinese-base\"\n",
    "embeddings = ModelScopeEmbeddings(model_id=model_id)\n",
    "vectorstore_doc1=Chroma.from_documents(sp_doc1, embedding=embeddings)\n",
    "print(\"\\nsimilarity_search的结果\")\n",
    "ret=vectorstore_doc1.similarity_search(\"介绍一下小李飞刀\", k=1)\n",
    "print(ret)\n",
    "\n",
    "print(\"\\nsimilarity_search_with_score的结果\")\n",
    "ret=vectorstore_doc1.similarity_search_with_score(\"介绍一下小李飞刀\", k=1)\n",
    "print(f\"document={ret[0][0].page_content}， 得分：{ret[0][1]}\")"
   ]
  },
  {
   "cell_type": "markdown",
   "metadata": {},
   "source": [
    "# similarity_search_with_score 相关性查找的例子\n",
    "演示了Chroma.from_documents和Chroma.from_texts的用法\n",
    "其中的 k参数表示返回的记录数，按照相关性倒序排列"
   ]
  },
  {
   "cell_type": "code",
   "execution_count": null,
   "metadata": {},
   "outputs": [],
   "source": [
    "from langchain.document_loaders import TextLoader\n",
    "from langchain.text_splitter import CharacterTextSplitter\n",
    "from langchain.embeddings import ModelScopeEmbeddings\n",
    "from langchain.vectorstores import Chroma\n",
    "from langchain.docstore.document import Document\n",
    "from typing import List\n",
    "\n",
    "model_id = \"damo/nlp_corom_sentence-embedding_chinese-base\"\n",
    "embeddings = ModelScopeEmbeddings(model_id=model_id)\n",
    "documents_list1=[\n",
    "    Document(page_content=\"李寻欢是个侠客，又帅又高又多金\")\n",
    "]\n",
    "vectorstore_doc1=Chroma.from_documents(documents_list1, embedding=embeddings)\n",
    "print(vectorstore_doc1)\n",
    "\n",
    "ret=vectorstore_doc1.similarity_search(\"李寻欢是谁\", k=1)\n",
    "print(ret)\n",
    "embeddings = ModelScopeEmbeddings(model_id=model_id)\n",
    "text_splitter = CharacterTextSplitter(chunk_size=1000, chunk_overlap=0)\n",
    "texts:List[str] = text_splitter.split_text(\"张三丰是全真派教主，是个白胡子老头\")\n",
    "vectorstore_doc1_1=Chroma.from_texts(texts, embedding=embeddings)\n",
    "ret=vectorstore_doc1_1.similarity_search(\"张三丰是谁?\", k=1)\n",
    "print(ret)"
   ]
  }
 ],
 "metadata": {
  "kernelspec": {
   "display_name": ".venv",
   "language": "python",
   "name": "python3"
  },
  "language_info": {
   "codemirror_mode": {
    "name": "ipython",
    "version": 3
   },
   "file_extension": ".py",
   "mimetype": "text/x-python",
   "name": "python",
   "nbconvert_exporter": "python",
   "pygments_lexer": "ipython3",
   "version": "3.11.6"
  }
 },
 "nbformat": 4,
 "nbformat_minor": 2
}
